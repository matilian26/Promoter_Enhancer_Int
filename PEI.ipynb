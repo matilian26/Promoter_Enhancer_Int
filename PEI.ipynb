{
 "cells": [
  {
   "cell_type": "code",
   "execution_count": 1,
   "metadata": {
    "collapsed": false
   },
   "outputs": [],
   "source": [
    "import os\n",
    "import re\n",
    "import collections\n",
    "import numpy as py\n",
    "import pandas as pd\n",
    "import itertools\n",
    "\n",
    "from ic_functions_py3 import*"
   ]
  },
  {
   "cell_type": "code",
   "execution_count": 2,
   "metadata": {
    "collapsed": false
   },
   "outputs": [
    {
     "data": {
      "text/html": [
       "<div>\n",
       "<table border=\"1\" class=\"dataframe\">\n",
       "  <thead>\n",
       "    <tr style=\"text-align: right;\">\n",
       "      <th></th>\n",
       "      <th>gene_symb</th>\n",
       "      <th>CG</th>\n",
       "      <th>FBgn</th>\n",
       "      <th>stage</th>\n",
       "      <th>staining</th>\n",
       "    </tr>\n",
       "  </thead>\n",
       "  <tbody>\n",
       "    <tr>\n",
       "      <th>0</th>\n",
       "      <td>a10</td>\n",
       "      <td>CG6642</td>\n",
       "      <td>FBgn0011293</td>\n",
       "      <td>1</td>\n",
       "      <td>no staining</td>\n",
       "    </tr>\n",
       "    <tr>\n",
       "      <th>1</th>\n",
       "      <td>a10</td>\n",
       "      <td>CG6642</td>\n",
       "      <td>FBgn0011293</td>\n",
       "      <td>2</td>\n",
       "      <td>no staining</td>\n",
       "    </tr>\n",
       "    <tr>\n",
       "      <th>2</th>\n",
       "      <td>a10</td>\n",
       "      <td>CG6642</td>\n",
       "      <td>FBgn0011293</td>\n",
       "      <td>3</td>\n",
       "      <td>no staining</td>\n",
       "    </tr>\n",
       "    <tr>\n",
       "      <th>3</th>\n",
       "      <td>a10</td>\n",
       "      <td>CG6642</td>\n",
       "      <td>FBgn0011293</td>\n",
       "      <td>4</td>\n",
       "      <td>no staining</td>\n",
       "    </tr>\n",
       "    <tr>\n",
       "      <th>4</th>\n",
       "      <td>a10</td>\n",
       "      <td>CG6642</td>\n",
       "      <td>FBgn0011293</td>\n",
       "      <td>5</td>\n",
       "      <td>no staining</td>\n",
       "    </tr>\n",
       "  </tbody>\n",
       "</table>\n",
       "</div>"
      ],
      "text/plain": [
       "  gene_symb      CG         FBgn  stage     staining\n",
       "0       a10  CG6642  FBgn0011293      1  no staining\n",
       "1       a10  CG6642  FBgn0011293      2  no staining\n",
       "2       a10  CG6642  FBgn0011293      3  no staining\n",
       "3       a10  CG6642  FBgn0011293      4  no staining\n",
       "4       a10  CG6642  FBgn0011293      5  no staining"
      ]
     },
     "execution_count": 2,
     "metadata": {},
     "output_type": "execute_result"
    }
   ],
   "source": [
    "# Create dictionaries of all associated names with the FlyBase gene symbol\n",
    "geneID,NametoIDs,NametoFBid = geneIDdictionary('Datasets/fbgn_annotation_ID_fb_2016_05.tsv')\n",
    "\n",
    "# Read in BDGP insitu data\n",
    "Stage = ['1_3','4_6','7_8','9_10','11_12','13_16']\n",
    "insitu = pd.read_csv('Datasets/insitu_annot.csv',names=['gene_symb','CG','FBgn','stage','staining'])\n",
    "insitu_ns = insitu[insitu.staining != 'no staining']\n",
    "insitu.head(5)"
   ]
  },
  {
   "cell_type": "code",
   "execution_count": 3,
   "metadata": {
    "collapsed": false
   },
   "outputs": [
    {
     "name": "stdout",
     "output_type": "stream",
     "text": [
      "FBgn0283709 is in the cross references but not in geneIDs\n",
      "FBgn0267825 is in the cross references but not in geneIDs\n"
     ]
    }
   ],
   "source": [
    "# Read in all datasets\n",
    "# Cross-referencing dictionary for promoters\n",
    "crossref = pd.read_csv('Datasets/EPD/cross_references.txt',header=0,sep='\\t')\n",
    "\n",
    "# Promoters (-50 to +50)\n",
    "raw_promoters = readFASTA('Datasets/EPD/dm6promoters_minus50plus50.fa','sequences',0,geneID,re.compile('>FP\\d+\\s([\\w\\-\\(\\)\\.]+_\\d)'))\n",
    "promoters = {}\n",
    "title = []\n",
    "neither = []\n",
    "for k,v in raw_promoters.items():\n",
    "    number = k[-2:]\n",
    "    if k[:-2] in geneID.keys(): \n",
    "        promoters[geneID[k[:-2]][0]+number] = v\n",
    "    elif k[:-2].lower() in geneID.keys(): \n",
    "        promoters[geneID[k[:-2].lower()][0]+number] = v\n",
    "    elif k[:-2].title() in geneID.keys(): \n",
    "        promoters[geneID[k[:-2].title()][0]+number] = v\n",
    "        title.append(k[:-2].title())\n",
    "    elif not crossref['Ensembl Gene ID'][crossref['Associated Gene Name'] == k[:-2]].empty:\n",
    "        FBgn = crossref['Ensembl Gene ID'][crossref['Associated Gene Name'] == k[:-2]].values[0]\n",
    "        if FBgn in geneID.keys():\n",
    "            promoters[geneID[FBgn][0]+number] = v\n",
    "        else:\n",
    "            print('%s is in the cross references but not in geneIDs' %FBgn)\n",
    "    else:\n",
    "        neither.append(k)\n",
    "        # note: these genes seem to be withdrawn, in progress, or not found in FlyBase\n",
    "# Note: Both FBgn0283709 and FBgn0267825 are unannotated\n",
    "od_promoters = collections.OrderedDict(sorted(promoters.items()))"
   ]
  },
  {
   "cell_type": "code",
   "execution_count": 5,
   "metadata": {
    "collapsed": false
   },
   "outputs": [
    {
     "data": {
      "text/html": [
       "<div>\n",
       "<table border=\"1\" class=\"dataframe\">\n",
       "  <thead>\n",
       "    <tr style=\"text-align: right;\">\n",
       "      <th></th>\n",
       "      <th>VTID</th>\n",
       "      <th>Chromosome</th>\n",
       "      <th>Start</th>\n",
       "      <th>End</th>\n",
       "      <th>FlyBase ID</th>\n",
       "      <th>Symbol</th>\n",
       "      <th>Chromosome.1</th>\n",
       "      <th>Start.1</th>\n",
       "      <th>End.1</th>\n",
       "      <th>Orientation</th>\n",
       "      <th>Match</th>\n",
       "    </tr>\n",
       "  </thead>\n",
       "  <tbody>\n",
       "    <tr>\n",
       "      <th>0</th>\n",
       "      <td>VT0006</td>\n",
       "      <td>chr2L</td>\n",
       "      <td>16836</td>\n",
       "      <td>18924</td>\n",
       "      <td>FBgn0002121</td>\n",
       "      <td>l(2)gl</td>\n",
       "      <td>chr2L</td>\n",
       "      <td>9839</td>\n",
       "      <td>21376</td>\n",
       "      <td>-</td>\n",
       "      <td>2</td>\n",
       "    </tr>\n",
       "    <tr>\n",
       "      <th>1</th>\n",
       "      <td>VT0025</td>\n",
       "      <td>chr2L</td>\n",
       "      <td>54047</td>\n",
       "      <td>56104</td>\n",
       "      <td>FBgn0051973</td>\n",
       "      <td>Cda5</td>\n",
       "      <td>chr2L</td>\n",
       "      <td>25402</td>\n",
       "      <td>65404</td>\n",
       "      <td>-</td>\n",
       "      <td>2</td>\n",
       "    </tr>\n",
       "    <tr>\n",
       "      <th>2</th>\n",
       "      <td>VT0131</td>\n",
       "      <td>chr2L</td>\n",
       "      <td>285217</td>\n",
       "      <td>287380</td>\n",
       "      <td>FBgn0031245</td>\n",
       "      <td>CG3625</td>\n",
       "      <td>chr2L</td>\n",
       "      <td>283385</td>\n",
       "      <td>291795</td>\n",
       "      <td>-</td>\n",
       "      <td>2</td>\n",
       "    </tr>\n",
       "    <tr>\n",
       "      <th>3</th>\n",
       "      <td>VT0132</td>\n",
       "      <td>chr2L</td>\n",
       "      <td>288875</td>\n",
       "      <td>290893</td>\n",
       "      <td>FBgn0025686</td>\n",
       "      <td>Amnionless</td>\n",
       "      <td>chr2L</td>\n",
       "      <td>287252</td>\n",
       "      <td>289144</td>\n",
       "      <td>-</td>\n",
       "      <td>2</td>\n",
       "    </tr>\n",
       "    <tr>\n",
       "      <th>4</th>\n",
       "      <td>VT0132</td>\n",
       "      <td>chr2L</td>\n",
       "      <td>288875</td>\n",
       "      <td>290893</td>\n",
       "      <td>FBgn0031245</td>\n",
       "      <td>CG3625</td>\n",
       "      <td>chr2L</td>\n",
       "      <td>283385</td>\n",
       "      <td>291795</td>\n",
       "      <td>-</td>\n",
       "      <td>1</td>\n",
       "    </tr>\n",
       "  </tbody>\n",
       "</table>\n",
       "</div>"
      ],
      "text/plain": [
       "     VTID Chromosome   Start     End   FlyBase ID      Symbol Chromosome.1  \\\n",
       "0  VT0006      chr2L   16836   18924  FBgn0002121      l(2)gl        chr2L   \n",
       "1  VT0025      chr2L   54047   56104  FBgn0051973        Cda5        chr2L   \n",
       "2  VT0131      chr2L  285217  287380  FBgn0031245      CG3625        chr2L   \n",
       "3  VT0132      chr2L  288875  290893  FBgn0025686  Amnionless        chr2L   \n",
       "4  VT0132      chr2L  288875  290893  FBgn0031245      CG3625        chr2L   \n",
       "\n",
       "   Start.1   End.1 Orientation  Match  \n",
       "0     9839   21376           -      2  \n",
       "1    25402   65404           -      2  \n",
       "2   283385  291795           -      2  \n",
       "3   287252  289144           -      2  \n",
       "4   283385  291795           -      1  "
      ]
     },
     "execution_count": 5,
     "metadata": {},
     "output_type": "execute_result"
    }
   ],
   "source": [
    "# Read in Vienna Tile enhancers\n",
    "VT = pd.read_csv('Datasets/Stark_ViennaTile/nature13395-s2/2014-01-00083C-Supplementary Table 4.csv')\n",
    "VT.head(5)"
   ]
  },
  {
   "cell_type": "code",
   "execution_count": 5,
   "metadata": {
    "collapsed": false
   },
   "outputs": [
    {
     "data": {
      "text/html": [
       "<div>\n",
       "<table border=\"1\" class=\"dataframe\">\n",
       "  <thead>\n",
       "    <tr style=\"text-align: right;\">\n",
       "      <th></th>\n",
       "      <th>Source</th>\n",
       "      <th>Name</th>\n",
       "      <th>Chr</th>\n",
       "      <th>Start</th>\n",
       "      <th>Stop</th>\n",
       "      <th>assigned gene</th>\n",
       "      <th>FBGn</th>\n",
       "    </tr>\n",
       "  </thead>\n",
       "  <tbody>\n",
       "    <tr>\n",
       "      <th>0</th>\n",
       "      <td>REDFly</td>\n",
       "      <td>ci_7.1</td>\n",
       "      <td>4</td>\n",
       "      <td>76479</td>\n",
       "      <td>83352</td>\n",
       "      <td>ci</td>\n",
       "      <td>FBgn0004859</td>\n",
       "    </tr>\n",
       "    <tr>\n",
       "      <th>1</th>\n",
       "      <td>CAD</td>\n",
       "      <td>ey_UE2.0</td>\n",
       "      <td>4</td>\n",
       "      <td>720530</td>\n",
       "      <td>722315</td>\n",
       "      <td>ey</td>\n",
       "      <td>FBgn0005558</td>\n",
       "    </tr>\n",
       "    <tr>\n",
       "      <th>2</th>\n",
       "      <td>CAD</td>\n",
       "      <td>ey_UE0.9</td>\n",
       "      <td>4</td>\n",
       "      <td>724596</td>\n",
       "      <td>725290</td>\n",
       "      <td>ey</td>\n",
       "      <td>FBgn0005558</td>\n",
       "    </tr>\n",
       "    <tr>\n",
       "      <th>3</th>\n",
       "      <td>CAD</td>\n",
       "      <td>ey_DO2</td>\n",
       "      <td>4</td>\n",
       "      <td>730630</td>\n",
       "      <td>730841</td>\n",
       "      <td>ey</td>\n",
       "      <td>FBgn0005558</td>\n",
       "    </tr>\n",
       "    <tr>\n",
       "      <th>4</th>\n",
       "      <td>REDFly</td>\n",
       "      <td>sphinx_1067bp_5'_fragment</td>\n",
       "      <td>4</td>\n",
       "      <td>994776</td>\n",
       "      <td>995842</td>\n",
       "      <td>sphinx</td>\n",
       "      <td>FBgn0083990</td>\n",
       "    </tr>\n",
       "  </tbody>\n",
       "</table>\n",
       "</div>"
      ],
      "text/plain": [
       "   Source                       Name Chr   Start    Stop assigned gene  \\\n",
       "0  REDFly                     ci_7.1   4   76479   83352            ci   \n",
       "1     CAD                   ey_UE2.0   4  720530  722315            ey   \n",
       "2     CAD                   ey_UE0.9   4  724596  725290            ey   \n",
       "3     CAD                     ey_DO2   4  730630  730841            ey   \n",
       "4  REDFly  sphinx_1067bp_5'_fragment   4  994776  995842        sphinx   \n",
       "\n",
       "          FBGn  \n",
       "0  FBgn0004859  \n",
       "1  FBgn0005558  \n",
       "2  FBgn0005558  \n",
       "3  FBgn0005558  \n",
       "4  FBgn0083990  "
      ]
     },
     "execution_count": 5,
     "metadata": {},
     "output_type": "execute_result"
    }
   ],
   "source": [
    "# Read in CAD/RedFly \"known\" enhancers\n",
    "Known = pd.read_excel('Datasets/Furlong_4C/nature13417/nature13417-s3.xlsx')\n",
    "Known.head(5)"
   ]
  },
  {
   "cell_type": "code",
   "execution_count": 6,
   "metadata": {
    "collapsed": false
   },
   "outputs": [
    {
     "data": {
      "text/html": [
       "<div>\n",
       "<table border=\"1\" class=\"dataframe\">\n",
       "  <thead>\n",
       "    <tr style=\"text-align: right;\">\n",
       "      <th></th>\n",
       "      <th>view</th>\n",
       "      <th>cond</th>\n",
       "      <th>pvalue</th>\n",
       "      <th>chr</th>\n",
       "      <th>start</th>\n",
       "      <th>end</th>\n",
       "      <th>midpoint</th>\n",
       "      <th>mid_dist</th>\n",
       "      <th>max_dist</th>\n",
       "      <th>short_dist</th>\n",
       "      <th>zscore</th>\n",
       "      <th>feature_id</th>\n",
       "      <th>feature</th>\n",
       "    </tr>\n",
       "  </thead>\n",
       "  <tbody>\n",
       "    <tr>\n",
       "      <th>0</th>\n",
       "      <td>CRM_1088</td>\n",
       "      <td>MESO_3-4h</td>\n",
       "      <td>0.001</td>\n",
       "      <td>chr2R</td>\n",
       "      <td>15164485</td>\n",
       "      <td>15165376</td>\n",
       "      <td>15164930</td>\n",
       "      <td>-135286</td>\n",
       "      <td>-135286</td>\n",
       "      <td>-134840</td>\n",
       "      <td>4.194707</td>\n",
       "      <td>NaN</td>\n",
       "      <td>intragenic</td>\n",
       "    </tr>\n",
       "    <tr>\n",
       "      <th>1</th>\n",
       "      <td>CRM_1088</td>\n",
       "      <td>MESO_3-4h</td>\n",
       "      <td>0.001</td>\n",
       "      <td>chr2R</td>\n",
       "      <td>15182513</td>\n",
       "      <td>15183814</td>\n",
       "      <td>15183164</td>\n",
       "      <td>-117052</td>\n",
       "      <td>-117052</td>\n",
       "      <td>-116402</td>\n",
       "      <td>4.234489</td>\n",
       "      <td>NaN</td>\n",
       "      <td>intragenic</td>\n",
       "    </tr>\n",
       "    <tr>\n",
       "      <th>2</th>\n",
       "      <td>CRM_1088</td>\n",
       "      <td>MESO_3-4h</td>\n",
       "      <td>0.001</td>\n",
       "      <td>chr2R</td>\n",
       "      <td>15191016</td>\n",
       "      <td>15191709</td>\n",
       "      <td>15191362</td>\n",
       "      <td>-108854</td>\n",
       "      <td>-108854</td>\n",
       "      <td>-108507</td>\n",
       "      <td>3.489552</td>\n",
       "      <td>NaN</td>\n",
       "      <td>intragenic</td>\n",
       "    </tr>\n",
       "    <tr>\n",
       "      <th>3</th>\n",
       "      <td>CRM_1088</td>\n",
       "      <td>MESO_3-4h</td>\n",
       "      <td>0.001</td>\n",
       "      <td>chr2R</td>\n",
       "      <td>15197589</td>\n",
       "      <td>15198942</td>\n",
       "      <td>15198266</td>\n",
       "      <td>-101950</td>\n",
       "      <td>-101950</td>\n",
       "      <td>-101274</td>\n",
       "      <td>3.378263</td>\n",
       "      <td>FBgn0034433</td>\n",
       "      <td>promoter</td>\n",
       "    </tr>\n",
       "    <tr>\n",
       "      <th>4</th>\n",
       "      <td>CRM_1088</td>\n",
       "      <td>MESO_3-4h</td>\n",
       "      <td>0.001</td>\n",
       "      <td>chr2R</td>\n",
       "      <td>15206172</td>\n",
       "      <td>15206872</td>\n",
       "      <td>15206522</td>\n",
       "      <td>-93694</td>\n",
       "      <td>-93694</td>\n",
       "      <td>-93344</td>\n",
       "      <td>3.572291</td>\n",
       "      <td>NaN</td>\n",
       "      <td>intragenic</td>\n",
       "    </tr>\n",
       "  </tbody>\n",
       "</table>\n",
       "</div>"
      ],
      "text/plain": [
       "       view       cond  pvalue    chr     start       end  midpoint  mid_dist  \\\n",
       "0  CRM_1088  MESO_3-4h   0.001  chr2R  15164485  15165376  15164930   -135286   \n",
       "1  CRM_1088  MESO_3-4h   0.001  chr2R  15182513  15183814  15183164   -117052   \n",
       "2  CRM_1088  MESO_3-4h   0.001  chr2R  15191016  15191709  15191362   -108854   \n",
       "3  CRM_1088  MESO_3-4h   0.001  chr2R  15197589  15198942  15198266   -101950   \n",
       "4  CRM_1088  MESO_3-4h   0.001  chr2R  15206172  15206872  15206522    -93694   \n",
       "\n",
       "   max_dist  short_dist    zscore   feature_id     feature  \n",
       "0   -135286     -134840  4.194707          NaN  intragenic  \n",
       "1   -117052     -116402  4.234489          NaN  intragenic  \n",
       "2   -108854     -108507  3.489552          NaN  intragenic  \n",
       "3   -101950     -101274  3.378263  FBgn0034433    promoter  \n",
       "4    -93694      -93344  3.572291          NaN  intragenic  "
      ]
     },
     "execution_count": 6,
     "metadata": {},
     "output_type": "execute_result"
    }
   ],
   "source": [
    "# Read in Furlong 4C enhancers\n",
    "Furlong4C = pd.read_excel('Datasets/Furlong_4C/nature13417/nature13417-s2.xlsx')\n",
    "Furlong4C.head(5)"
   ]
  },
  {
   "cell_type": "code",
   "execution_count": 7,
   "metadata": {
    "collapsed": false
   },
   "outputs": [
    {
     "name": "stdout",
     "output_type": "stream",
     "text": [
      "['BREd', 'BREu', 'Bridge', 'DInr', 'DPE', 'DTCT', 'MTE', 'TATABox', 'XCPE1', 'XCPE2']\n",
      "Done: BREd\n",
      "Done: BREu\n",
      "Done: Bridge\n",
      "Done: DInr\n",
      "Done: DPE\n",
      "Done: DTCT\n",
      "Done: MTE\n",
      "Done: TATABox\n",
      "Done: XCPE1\n",
      "Done: XCPE2\n"
     ]
    }
   ],
   "source": [
    "# Find core promoter motifs\n",
    "_,_,filenames = next(os.walk('matrix'),(None, None, []))\n",
    "pmotif_list = [x[:-4] for x in filenames if '.txt' in x]\n",
    "print(pmotif_list)\n",
    "\n",
    "od_len_promoter = createSeqIN(od_promoters,0,0,os.getcwd(),'promoters',1,0)\n",
    "runPatser(os.getcwd(),'promoters',pmotif_list,0)"
   ]
  },
  {
   "cell_type": "code",
   "execution_count": 4,
   "metadata": {
    "collapsed": true
   },
   "outputs": [
    {
     "name": "stdout",
     "output_type": "stream",
     "text": [
      "['BREd', 'BREu', 'Bridge', 'DInr', 'DPE', 'DTCT', 'MTE', 'TATABox', 'XCPE1', 'XCPE2']\n",
      "BREd\n",
      "BREu\n",
      "Bridge\n",
      "DInr\n",
      "DPE\n",
      "DTCT\n",
      "MTE\n",
      "TATABox\n",
      "XCPE1\n",
      "XCPE2\n"
     ]
    },
    {
     "data": {
      "text/html": [
       "<div>\n",
       "<table border=\"1\" class=\"dataframe\">\n",
       "  <thead>\n",
       "    <tr style=\"text-align: right;\">\n",
       "      <th></th>\n",
       "      <th>sequence</th>\n",
       "      <th>motif</th>\n",
       "      <th>position</th>\n",
       "      <th>complement</th>\n",
       "      <th>score</th>\n",
       "      <th>lnp</th>\n",
       "    </tr>\n",
       "  </thead>\n",
       "  <tbody>\n",
       "    <tr>\n",
       "      <th>0</th>\n",
       "      <td>128up_1</td>\n",
       "      <td>BREd</td>\n",
       "      <td>5</td>\n",
       "      <td>0</td>\n",
       "      <td>1.14</td>\n",
       "      <td>-2.57</td>\n",
       "    </tr>\n",
       "    <tr>\n",
       "      <th>1</th>\n",
       "      <td>128up_1</td>\n",
       "      <td>BREd</td>\n",
       "      <td>6</td>\n",
       "      <td>0</td>\n",
       "      <td>0.92</td>\n",
       "      <td>-2.29</td>\n",
       "    </tr>\n",
       "    <tr>\n",
       "      <th>2</th>\n",
       "      <td>128up_1</td>\n",
       "      <td>BREd</td>\n",
       "      <td>7</td>\n",
       "      <td>0</td>\n",
       "      <td>2.37</td>\n",
       "      <td>-4.76</td>\n",
       "    </tr>\n",
       "    <tr>\n",
       "      <th>3</th>\n",
       "      <td>128up_1</td>\n",
       "      <td>BREd</td>\n",
       "      <td>35</td>\n",
       "      <td>0</td>\n",
       "      <td>0.23</td>\n",
       "      <td>-1.56</td>\n",
       "    </tr>\n",
       "    <tr>\n",
       "      <th>4</th>\n",
       "      <td>128up_1</td>\n",
       "      <td>BREd</td>\n",
       "      <td>37</td>\n",
       "      <td>0</td>\n",
       "      <td>0.22</td>\n",
       "      <td>-1.56</td>\n",
       "    </tr>\n",
       "  </tbody>\n",
       "</table>\n",
       "</div>"
      ],
      "text/plain": [
       "  sequence motif  position  complement  score   lnp\n",
       "0  128up_1  BREd         5           0   1.14 -2.57\n",
       "1  128up_1  BREd         6           0   0.92 -2.29\n",
       "2  128up_1  BREd         7           0   2.37 -4.76\n",
       "3  128up_1  BREd        35           0   0.23 -1.56\n",
       "4  128up_1  BREd        37           0   0.22 -1.56"
      ]
     },
     "execution_count": 4,
     "metadata": {},
     "output_type": "execute_result"
    }
   ],
   "source": [
    "# Run patser once\n",
    "_,_,filenames = next(os.walk('matrix'),(None, None, []))\n",
    "pmotif_list = [x[:-4] for x in filenames if '.txt' in x]\n",
    "print(pmotif_list)\n",
    "\n",
    "motif_range = {}\n",
    "motif_range['DInr'] = (-10,10)\n",
    "motif_range['TATABox'] = (-40,-20)\n",
    "motif_range['DPE'] = (20,40)\n",
    "motif_range['MTE'] = (10,30)\n",
    "motif_range['DTCT'] = (-10,10)\n",
    "\n",
    "lnp_cutoff = {k:0 for k in pmotif_list}\n",
    "promoters_patser_output = parsePatser(os.getcwd(),pmotif_list,'promoters',lnp_cutoff,'promoters',0,'.txt')\n",
    "promoters_patser_output.head(5)"
   ]
  },
  {
   "cell_type": "code",
   "execution_count": 4,
   "metadata": {
    "collapsed": false
   },
   "outputs": [
    {
     "name": "stdout",
     "output_type": "stream",
     "text": [
      "['BREd', 'BREu', 'Bridge1', 'Bridge2', 'DInr', 'DPE', 'DTCT', 'MTE', 'TATABox', 'XCPE1', 'XCPE2']\n"
     ]
    },
    {
     "data": {
      "text/html": [
       "<div>\n",
       "<table border=\"1\" class=\"dataframe\">\n",
       "  <thead>\n",
       "    <tr style=\"text-align: right;\">\n",
       "      <th></th>\n",
       "      <th>sequence</th>\n",
       "      <th>motif</th>\n",
       "      <th>position</th>\n",
       "      <th>complement</th>\n",
       "      <th>score</th>\n",
       "      <th>lnp</th>\n",
       "    </tr>\n",
       "  </thead>\n",
       "  <tbody>\n",
       "    <tr>\n",
       "      <th>0</th>\n",
       "      <td>128up_1</td>\n",
       "      <td>BREd</td>\n",
       "      <td>4</td>\n",
       "      <td>0</td>\n",
       "      <td>0.00</td>\n",
       "      <td>-1.38</td>\n",
       "    </tr>\n",
       "    <tr>\n",
       "      <th>1</th>\n",
       "      <td>128up_1</td>\n",
       "      <td>BREd</td>\n",
       "      <td>5</td>\n",
       "      <td>0</td>\n",
       "      <td>1.14</td>\n",
       "      <td>-2.57</td>\n",
       "    </tr>\n",
       "    <tr>\n",
       "      <th>2</th>\n",
       "      <td>128up_1</td>\n",
       "      <td>BREd</td>\n",
       "      <td>6</td>\n",
       "      <td>0</td>\n",
       "      <td>0.92</td>\n",
       "      <td>-2.29</td>\n",
       "    </tr>\n",
       "    <tr>\n",
       "      <th>3</th>\n",
       "      <td>128up_1</td>\n",
       "      <td>BREd</td>\n",
       "      <td>7</td>\n",
       "      <td>0</td>\n",
       "      <td>2.37</td>\n",
       "      <td>-4.76</td>\n",
       "    </tr>\n",
       "    <tr>\n",
       "      <th>4</th>\n",
       "      <td>128up_1</td>\n",
       "      <td>BREd</td>\n",
       "      <td>35</td>\n",
       "      <td>0</td>\n",
       "      <td>0.23</td>\n",
       "      <td>-1.56</td>\n",
       "    </tr>\n",
       "  </tbody>\n",
       "</table>\n",
       "</div>"
      ],
      "text/plain": [
       "  sequence motif  position  complement  score   lnp\n",
       "0  128up_1  BREd         4           0   0.00 -1.38\n",
       "1  128up_1  BREd         5           0   1.14 -2.57\n",
       "2  128up_1  BREd         6           0   0.92 -2.29\n",
       "3  128up_1  BREd         7           0   2.37 -4.76\n",
       "4  128up_1  BREd        35           0   0.23 -1.56"
      ]
     },
     "execution_count": 4,
     "metadata": {},
     "output_type": "execute_result"
    }
   ],
   "source": [
    "# Read in patser output\n",
    "_,_,filenames = next(os.walk('matrix'),(None, None, []))\n",
    "pmotif_list = [x[:-4] for x in filenames if '.txt' in x]\n",
    "print(pmotif_list)\n",
    "\n",
    "motif_range = {}\n",
    "motif_range['DInr'] = (-10,10)\n",
    "motif_range['TATABox'] = (-40,-20)\n",
    "motif_range['DPE'] = (20,40)\n",
    "motif_range['MTE'] = (10,30)\n",
    "motif_range['DTCT'] = (-10,10)\n",
    "\n",
    "promoters_patser_output = pd.read_csv('patserAnalysis/promoters_patser_output.txt',header=None,sep='\\t')\n",
    "promoters_patser_output.columns = ['sequence','motif','position','complement','score','lnp']\n",
    "promoters_patser_output[['position','complement']] = promoters_patser_output[['position','complement']].astype(int)\n",
    "promoters_patser_output[['score','lnp']] = promoters_patser_output[['score','lnp']].astype(float)\n",
    "\n",
    "promoters_patser_output.head(5)"
   ]
  },
  {
   "cell_type": "code",
   "execution_count": 5,
   "metadata": {
    "collapsed": false
   },
   "outputs": [
    {
     "data": {
      "text/plain": [
       "{'BREd': 0.5,\n",
       " 'BREu': 0.05,\n",
       " 'Bridge1': 0.01,\n",
       " 'Bridge2': 0.01,\n",
       " 'DInr': 0.01,\n",
       " 'DPE': 0.01,\n",
       " 'DTCT': 0.1,\n",
       " 'MTE': 0.01,\n",
       " 'TATABox': 0.01,\n",
       " 'XCPE1': 0.01,\n",
       " 'XCPE2': 0.01}"
      ]
     },
     "execution_count": 5,
     "metadata": {},
     "output_type": "execute_result"
    }
   ],
   "source": [
    "ES_cutoff=dict(zip(pmotif_list,[0.5,0.05,0.01,0.01,0.01,0.01,0.1,0.01,0.01,0.01,0.01]))\n",
    "ES_cutoff"
   ]
  },
  {
   "cell_type": "code",
   "execution_count": 6,
   "metadata": {
    "collapsed": false
   },
   "outputs": [],
   "source": []
  },
  {
   "cell_type": "code",
   "execution_count": 68,
   "metadata": {
    "collapsed": true
   },
   "outputs": [],
   "source": [
    "pNseq=dict(zip(pmotif_list,[41,22,2,43,43,43,71,25,1,113,52]))"
   ]
  },
  {
   "cell_type": "code",
   "execution_count": null,
   "metadata": {
    "collapsed": true
   },
   "outputs": [],
   "source": [
    "# Score all possible sequences using ElemeNT algorithm\n",
    "nt2idx=dict(zip(['A','C','G','T'],[0,1,2,3]))\n",
    "columns = ['motif', 'sequence', 'score']\n",
    "ElemeNT = pd.DataFrame(data=np.zeros((0,len(columns))), columns=columns) \n",
    "for k,v in pPFM.items():\n",
    "    L = v.shape[0]\n",
    "    for seq in itertools.combinations(['A','T','C','G']*L,L):\n",
    "        temp_score = 0\n",
    "        for i,base in enumerate(seq):\n",
    "            temp_score = temp_score*v[i,nt2idx[base]]/max(v[i,:])\n",
    "            if temp_score == 0:\n",
    "                ElemeNT = [k,''.join(seq),temp_score]\n",
    "                continue\n",
    "        ElemeNT = [k,seq,temp_score]\n",
    "        print(temp_score)"
   ]
  },
  {
   "cell_type": "code",
   "execution_count": 45,
   "metadata": {
    "collapsed": true
   },
   "outputs": [
    {
     "data": {
      "text/plain": [
       "{'BREd': ['ACGT', 'ACGT', 'ACGT', 'ACGT', 'ACGT', 'ACGT', 'ACGT'],\n",
       " 'BREu': ['ACGT', 'ACGT', 'ACGT', 'ACGT', 'ACGT', 'ACGT', 'ACGT'],\n",
       " 'Bridge1': ['ACGT', 'ACGT', 'ACGT', 'ACGT', 'ACGT'],\n",
       " 'Bridge2': ['ACGT', 'ACGT', 'ACGT', 'ACGT'],\n",
       " 'DInr': ['ACGT', 'ACGT', 'A', 'ACGT', 'ACGT', 'ACGT'],\n",
       " 'DPE': ['ACGT', 'CG', 'ACGT', 'ACGT', 'ACGT', 'ACGT'],\n",
       " 'DTCT': ['ACGT', 'ACGT', 'ACGT', 'ACGT', 'ACGT', 'ACGT', 'ACGT', 'ACGT'],\n",
       " 'MTE': ['ACGT',\n",
       "  'ACGT',\n",
       "  'ACGT',\n",
       "  'ACGT',\n",
       "  'ACGT',\n",
       "  'ACGT',\n",
       "  'ACGT',\n",
       "  'ACGT',\n",
       "  'ACGT',\n",
       "  'ACGT',\n",
       "  'ACGT',\n",
       "  'ACGT'],\n",
       " 'TATABox': ['T', 'A', 'T', 'A', 'ACGT', 'ACGT', 'ACGT', 'ACGT'],\n",
       " 'XCPE1': ['ACGT',\n",
       "  'ACGT',\n",
       "  'ACGT',\n",
       "  'ACGT',\n",
       "  'ACGT',\n",
       "  'ACGT',\n",
       "  'ACGT',\n",
       "  'ACGT',\n",
       "  'ACGT',\n",
       "  'ACGT'],\n",
       " 'XCPE2': ['ACGT',\n",
       "  'ACGT',\n",
       "  'ACGT',\n",
       "  'ACGT',\n",
       "  'ACGT',\n",
       "  'ACGT',\n",
       "  'ACGT',\n",
       "  'ACGT',\n",
       "  'ACGT',\n",
       "  'ACGT',\n",
       "  'ACGT']}"
      ]
     },
     "execution_count": 45,
     "metadata": {},
     "output_type": "execute_result"
    }
   ],
   "source": [
    "nt2idx=dict(zip(['A','C','G','T'],[0,1,2,3]))\n",
    "idx2nt={v:k for k,v in nt2idx.items()}\n",
    "seq_constraints = {}\n",
    "for k,v in pPFM.items():\n",
    "    temp_nt = []\n",
    "    for i,row in enumerate(v):\n",
    "        temp_position = ''\n",
    "        if 0 in row:\n",
    "            for j,element in enumerate(row):\n",
    "                if element > 0:\n",
    "                    temp_position += idx2nt[j]\n",
    "        else:\n",
    "            temp_position = 'ACGT'\n",
    "        temp_nt.append(temp_position)\n",
    "        seq_constraints[k] = temp_nt\n",
    "# seq_constraints = {k:v for k,v in seq_constraints.items() if not all(elem == 'ACGT' for elem in v)}\n",
    "seq_constraints"
   ]
  },
  {
   "cell_type": "code",
   "execution_count": 46,
   "metadata": {
    "collapsed": true
   },
   "outputs": [
    {
     "ename": "KeyboardInterrupt",
     "evalue": "",
     "output_type": "error",
     "traceback": [
      "\u001b[0;31m---------------------------------------------------------------------------\u001b[0m",
      "\u001b[0;31mKeyboardInterrupt\u001b[0m                         Traceback (most recent call last)",
      "\u001b[0;32m<ipython-input-46-da03d7fa8645>\u001b[0m in \u001b[0;36m<module>\u001b[0;34m()\u001b[0m\n\u001b[1;32m     17\u001b[0m                 \u001b[0;32mif\u001b[0m \u001b[0mtemp_score\u001b[0m \u001b[0;34m==\u001b[0m \u001b[0;36m0\u001b[0m\u001b[0;34m:\u001b[0m\u001b[0;34m\u001b[0m\u001b[0m\n\u001b[1;32m     18\u001b[0m                     \u001b[0;32mcontinue\u001b[0m\u001b[0;34m\u001b[0m\u001b[0m\n\u001b[0;32m---> 19\u001b[0;31m             \u001b[0mElemeNT\u001b[0m\u001b[0;34m.\u001b[0m\u001b[0mloc\u001b[0m\u001b[0;34m[\u001b[0m\u001b[0midx\u001b[0m\u001b[0;34m]\u001b[0m \u001b[0;34m=\u001b[0m \u001b[0;34m[\u001b[0m\u001b[0mk\u001b[0m\u001b[0;34m,\u001b[0m\u001b[0;34m''\u001b[0m\u001b[0;34m.\u001b[0m\u001b[0mjoin\u001b[0m\u001b[0;34m(\u001b[0m\u001b[0mseq\u001b[0m\u001b[0;34m)\u001b[0m\u001b[0;34m,\u001b[0m\u001b[0mtemp_score\u001b[0m\u001b[0;34m]\u001b[0m\u001b[0;34m\u001b[0m\u001b[0m\n\u001b[0m\u001b[1;32m     20\u001b[0m             \u001b[0midx\u001b[0m \u001b[0;34m+=\u001b[0m \u001b[0;36m1\u001b[0m\u001b[0;34m\u001b[0m\u001b[0m\n",
      "\u001b[0;32m/Users/lilyli/anaconda3/lib/python3.6/site-packages/pandas/core/indexing.py\u001b[0m in \u001b[0;36m__setitem__\u001b[0;34m(self, key, value)\u001b[0m\n\u001b[1;32m    139\u001b[0m             \u001b[0mkey\u001b[0m \u001b[0;34m=\u001b[0m \u001b[0mcom\u001b[0m\u001b[0;34m.\u001b[0m\u001b[0m_apply_if_callable\u001b[0m\u001b[0;34m(\u001b[0m\u001b[0mkey\u001b[0m\u001b[0;34m,\u001b[0m \u001b[0mself\u001b[0m\u001b[0;34m.\u001b[0m\u001b[0mobj\u001b[0m\u001b[0;34m)\u001b[0m\u001b[0;34m\u001b[0m\u001b[0m\n\u001b[1;32m    140\u001b[0m         \u001b[0mindexer\u001b[0m \u001b[0;34m=\u001b[0m \u001b[0mself\u001b[0m\u001b[0;34m.\u001b[0m\u001b[0m_get_setitem_indexer\u001b[0m\u001b[0;34m(\u001b[0m\u001b[0mkey\u001b[0m\u001b[0;34m)\u001b[0m\u001b[0;34m\u001b[0m\u001b[0m\n\u001b[0;32m--> 141\u001b[0;31m         \u001b[0mself\u001b[0m\u001b[0;34m.\u001b[0m\u001b[0m_setitem_with_indexer\u001b[0m\u001b[0;34m(\u001b[0m\u001b[0mindexer\u001b[0m\u001b[0;34m,\u001b[0m \u001b[0mvalue\u001b[0m\u001b[0;34m)\u001b[0m\u001b[0;34m\u001b[0m\u001b[0m\n\u001b[0m\u001b[1;32m    142\u001b[0m \u001b[0;34m\u001b[0m\u001b[0m\n\u001b[1;32m    143\u001b[0m     \u001b[0;32mdef\u001b[0m \u001b[0m_has_valid_type\u001b[0m\u001b[0;34m(\u001b[0m\u001b[0mself\u001b[0m\u001b[0;34m,\u001b[0m \u001b[0mk\u001b[0m\u001b[0;34m,\u001b[0m \u001b[0maxis\u001b[0m\u001b[0;34m)\u001b[0m\u001b[0;34m:\u001b[0m\u001b[0;34m\u001b[0m\u001b[0m\n",
      "\u001b[0;32m/Users/lilyli/anaconda3/lib/python3.6/site-packages/pandas/core/indexing.py\u001b[0m in \u001b[0;36m_setitem_with_indexer\u001b[0;34m(self, indexer, value)\u001b[0m\n\u001b[1;32m    383\u001b[0m                                        name=indexer)\n\u001b[1;32m    384\u001b[0m \u001b[0;34m\u001b[0m\u001b[0m\n\u001b[0;32m--> 385\u001b[0;31m                     \u001b[0mself\u001b[0m\u001b[0;34m.\u001b[0m\u001b[0mobj\u001b[0m\u001b[0;34m.\u001b[0m\u001b[0m_data\u001b[0m \u001b[0;34m=\u001b[0m \u001b[0mself\u001b[0m\u001b[0;34m.\u001b[0m\u001b[0mobj\u001b[0m\u001b[0;34m.\u001b[0m\u001b[0mappend\u001b[0m\u001b[0;34m(\u001b[0m\u001b[0mvalue\u001b[0m\u001b[0;34m)\u001b[0m\u001b[0;34m.\u001b[0m\u001b[0m_data\u001b[0m\u001b[0;34m\u001b[0m\u001b[0m\n\u001b[0m\u001b[1;32m    386\u001b[0m                     \u001b[0mself\u001b[0m\u001b[0;34m.\u001b[0m\u001b[0mobj\u001b[0m\u001b[0;34m.\u001b[0m\u001b[0m_maybe_update_cacher\u001b[0m\u001b[0;34m(\u001b[0m\u001b[0mclear\u001b[0m\u001b[0;34m=\u001b[0m\u001b[0;32mTrue\u001b[0m\u001b[0;34m)\u001b[0m\u001b[0;34m\u001b[0m\u001b[0m\n\u001b[1;32m    387\u001b[0m                     \u001b[0;32mreturn\u001b[0m \u001b[0mself\u001b[0m\u001b[0;34m.\u001b[0m\u001b[0mobj\u001b[0m\u001b[0;34m\u001b[0m\u001b[0m\n",
      "\u001b[0;32m/Users/lilyli/anaconda3/lib/python3.6/site-packages/pandas/core/frame.py\u001b[0m in \u001b[0;36mappend\u001b[0;34m(self, other, ignore_index, verify_integrity)\u001b[0m\n\u001b[1;32m   4421\u001b[0m             \u001b[0mother\u001b[0m \u001b[0;34m=\u001b[0m \u001b[0mother\u001b[0m\u001b[0;34m.\u001b[0m\u001b[0m_convert\u001b[0m\u001b[0;34m(\u001b[0m\u001b[0mdatetime\u001b[0m\u001b[0;34m=\u001b[0m\u001b[0;32mTrue\u001b[0m\u001b[0;34m,\u001b[0m \u001b[0mtimedelta\u001b[0m\u001b[0;34m=\u001b[0m\u001b[0;32mTrue\u001b[0m\u001b[0;34m)\u001b[0m\u001b[0;34m\u001b[0m\u001b[0m\n\u001b[1;32m   4422\u001b[0m             \u001b[0;32mif\u001b[0m \u001b[0;32mnot\u001b[0m \u001b[0mself\u001b[0m\u001b[0;34m.\u001b[0m\u001b[0mcolumns\u001b[0m\u001b[0;34m.\u001b[0m\u001b[0mequals\u001b[0m\u001b[0;34m(\u001b[0m\u001b[0mcombined_columns\u001b[0m\u001b[0;34m)\u001b[0m\u001b[0;34m:\u001b[0m\u001b[0;34m\u001b[0m\u001b[0m\n\u001b[0;32m-> 4423\u001b[0;31m                 \u001b[0mself\u001b[0m \u001b[0;34m=\u001b[0m \u001b[0mself\u001b[0m\u001b[0;34m.\u001b[0m\u001b[0mreindex\u001b[0m\u001b[0;34m(\u001b[0m\u001b[0mcolumns\u001b[0m\u001b[0;34m=\u001b[0m\u001b[0mcombined_columns\u001b[0m\u001b[0;34m)\u001b[0m\u001b[0;34m\u001b[0m\u001b[0m\n\u001b[0m\u001b[1;32m   4424\u001b[0m         \u001b[0;32melif\u001b[0m \u001b[0misinstance\u001b[0m\u001b[0;34m(\u001b[0m\u001b[0mother\u001b[0m\u001b[0;34m,\u001b[0m \u001b[0mlist\u001b[0m\u001b[0;34m)\u001b[0m \u001b[0;32mand\u001b[0m \u001b[0;32mnot\u001b[0m \u001b[0misinstance\u001b[0m\u001b[0;34m(\u001b[0m\u001b[0mother\u001b[0m\u001b[0;34m[\u001b[0m\u001b[0;36m0\u001b[0m\u001b[0;34m]\u001b[0m\u001b[0;34m,\u001b[0m \u001b[0mDataFrame\u001b[0m\u001b[0;34m)\u001b[0m\u001b[0;34m:\u001b[0m\u001b[0;34m\u001b[0m\u001b[0m\n\u001b[1;32m   4425\u001b[0m             \u001b[0mother\u001b[0m \u001b[0;34m=\u001b[0m \u001b[0mDataFrame\u001b[0m\u001b[0;34m(\u001b[0m\u001b[0mother\u001b[0m\u001b[0;34m)\u001b[0m\u001b[0;34m\u001b[0m\u001b[0m\n",
      "\u001b[0;32m/Users/lilyli/anaconda3/lib/python3.6/site-packages/pandas/core/frame.py\u001b[0m in \u001b[0;36mreindex\u001b[0;34m(self, index, columns, **kwargs)\u001b[0m\n\u001b[1;32m   2819\u001b[0m     \u001b[0;32mdef\u001b[0m \u001b[0mreindex\u001b[0m\u001b[0;34m(\u001b[0m\u001b[0mself\u001b[0m\u001b[0;34m,\u001b[0m \u001b[0mindex\u001b[0m\u001b[0;34m=\u001b[0m\u001b[0;32mNone\u001b[0m\u001b[0;34m,\u001b[0m \u001b[0mcolumns\u001b[0m\u001b[0;34m=\u001b[0m\u001b[0;32mNone\u001b[0m\u001b[0;34m,\u001b[0m \u001b[0;34m**\u001b[0m\u001b[0mkwargs\u001b[0m\u001b[0;34m)\u001b[0m\u001b[0;34m:\u001b[0m\u001b[0;34m\u001b[0m\u001b[0m\n\u001b[1;32m   2820\u001b[0m         return super(DataFrame, self).reindex(index=index, columns=columns,\n\u001b[0;32m-> 2821\u001b[0;31m                                               **kwargs)\n\u001b[0m\u001b[1;32m   2822\u001b[0m \u001b[0;34m\u001b[0m\u001b[0m\n\u001b[1;32m   2823\u001b[0m     \u001b[0;34m@\u001b[0m\u001b[0mAppender\u001b[0m\u001b[0;34m(\u001b[0m\u001b[0m_shared_docs\u001b[0m\u001b[0;34m[\u001b[0m\u001b[0;34m'reindex_axis'\u001b[0m\u001b[0;34m]\u001b[0m \u001b[0;34m%\u001b[0m \u001b[0m_shared_doc_kwargs\u001b[0m\u001b[0;34m)\u001b[0m\u001b[0;34m\u001b[0m\u001b[0m\n",
      "\u001b[0;32m/Users/lilyli/anaconda3/lib/python3.6/site-packages/pandas/core/generic.py\u001b[0m in \u001b[0;36mreindex\u001b[0;34m(self, *args, **kwargs)\u001b[0m\n\u001b[1;32m   2257\u001b[0m         \u001b[0;31m# perform the reindex on the axes\u001b[0m\u001b[0;34m\u001b[0m\u001b[0;34m\u001b[0m\u001b[0m\n\u001b[1;32m   2258\u001b[0m         return self._reindex_axes(axes, level, limit, tolerance, method,\n\u001b[0;32m-> 2259\u001b[0;31m                                   fill_value, copy).__finalize__(self)\n\u001b[0m\u001b[1;32m   2260\u001b[0m \u001b[0;34m\u001b[0m\u001b[0m\n\u001b[1;32m   2261\u001b[0m     def _reindex_axes(self, axes, level, limit, tolerance, method, fill_value,\n",
      "\u001b[0;32m/Users/lilyli/anaconda3/lib/python3.6/site-packages/pandas/core/frame.py\u001b[0m in \u001b[0;36m_reindex_axes\u001b[0;34m(self, axes, level, limit, tolerance, method, fill_value, copy)\u001b[0m\n\u001b[1;32m   2760\u001b[0m         \u001b[0;32mif\u001b[0m \u001b[0mcolumns\u001b[0m \u001b[0;32mis\u001b[0m \u001b[0;32mnot\u001b[0m \u001b[0;32mNone\u001b[0m\u001b[0;34m:\u001b[0m\u001b[0;34m\u001b[0m\u001b[0m\n\u001b[1;32m   2761\u001b[0m             frame = frame._reindex_columns(columns, copy, level, fill_value,\n\u001b[0;32m-> 2762\u001b[0;31m                                            limit, tolerance)\n\u001b[0m\u001b[1;32m   2763\u001b[0m \u001b[0;34m\u001b[0m\u001b[0m\n\u001b[1;32m   2764\u001b[0m         \u001b[0mindex\u001b[0m \u001b[0;34m=\u001b[0m \u001b[0maxes\u001b[0m\u001b[0;34m[\u001b[0m\u001b[0;34m'index'\u001b[0m\u001b[0;34m]\u001b[0m\u001b[0;34m\u001b[0m\u001b[0m\n",
      "\u001b[0;32m/Users/lilyli/anaconda3/lib/python3.6/site-packages/pandas/core/frame.py\u001b[0m in \u001b[0;36m_reindex_columns\u001b[0;34m(self, new_columns, copy, level, fill_value, limit, tolerance)\u001b[0m\n\u001b[1;32m   2785\u001b[0m         return self._reindex_with_indexers({1: [new_columns, indexer]},\n\u001b[1;32m   2786\u001b[0m                                            \u001b[0mcopy\u001b[0m\u001b[0;34m=\u001b[0m\u001b[0mcopy\u001b[0m\u001b[0;34m,\u001b[0m \u001b[0mfill_value\u001b[0m\u001b[0;34m=\u001b[0m\u001b[0mfill_value\u001b[0m\u001b[0;34m,\u001b[0m\u001b[0;34m\u001b[0m\u001b[0m\n\u001b[0;32m-> 2787\u001b[0;31m                                            allow_dups=False)\n\u001b[0m\u001b[1;32m   2788\u001b[0m \u001b[0;34m\u001b[0m\u001b[0m\n\u001b[1;32m   2789\u001b[0m     \u001b[0;32mdef\u001b[0m \u001b[0m_reindex_multi\u001b[0m\u001b[0;34m(\u001b[0m\u001b[0mself\u001b[0m\u001b[0;34m,\u001b[0m \u001b[0maxes\u001b[0m\u001b[0;34m,\u001b[0m \u001b[0mcopy\u001b[0m\u001b[0;34m,\u001b[0m \u001b[0mfill_value\u001b[0m\u001b[0;34m)\u001b[0m\u001b[0;34m:\u001b[0m\u001b[0;34m\u001b[0m\u001b[0m\n",
      "\u001b[0;32m/Users/lilyli/anaconda3/lib/python3.6/site-packages/pandas/core/generic.py\u001b[0m in \u001b[0;36m_reindex_with_indexers\u001b[0;34m(self, reindexers, fill_value, copy, allow_dups)\u001b[0m\n\u001b[1;32m   2369\u001b[0m                                                 \u001b[0mfill_value\u001b[0m\u001b[0;34m=\u001b[0m\u001b[0mfill_value\u001b[0m\u001b[0;34m,\u001b[0m\u001b[0;34m\u001b[0m\u001b[0m\n\u001b[1;32m   2370\u001b[0m                                                 \u001b[0mallow_dups\u001b[0m\u001b[0;34m=\u001b[0m\u001b[0mallow_dups\u001b[0m\u001b[0;34m,\u001b[0m\u001b[0;34m\u001b[0m\u001b[0m\n\u001b[0;32m-> 2371\u001b[0;31m                                                 copy=copy)\n\u001b[0m\u001b[1;32m   2372\u001b[0m \u001b[0;34m\u001b[0m\u001b[0m\n\u001b[1;32m   2373\u001b[0m         \u001b[0;32mif\u001b[0m \u001b[0mcopy\u001b[0m \u001b[0;32mand\u001b[0m \u001b[0mnew_data\u001b[0m \u001b[0;32mis\u001b[0m \u001b[0mself\u001b[0m\u001b[0;34m.\u001b[0m\u001b[0m_data\u001b[0m\u001b[0;34m:\u001b[0m\u001b[0;34m\u001b[0m\u001b[0m\n",
      "\u001b[0;32m/Users/lilyli/anaconda3/lib/python3.6/site-packages/pandas/core/internals.py\u001b[0m in \u001b[0;36mreindex_indexer\u001b[0;34m(self, new_axis, indexer, axis, fill_value, allow_dups, copy)\u001b[0m\n\u001b[1;32m   3828\u001b[0m                 \u001b[0;32mreturn\u001b[0m \u001b[0mself\u001b[0m\u001b[0;34m\u001b[0m\u001b[0m\n\u001b[1;32m   3829\u001b[0m \u001b[0;34m\u001b[0m\u001b[0m\n\u001b[0;32m-> 3830\u001b[0;31m             \u001b[0mresult\u001b[0m \u001b[0;34m=\u001b[0m \u001b[0mself\u001b[0m\u001b[0;34m.\u001b[0m\u001b[0mcopy\u001b[0m\u001b[0;34m(\u001b[0m\u001b[0mdeep\u001b[0m\u001b[0;34m=\u001b[0m\u001b[0mcopy\u001b[0m\u001b[0;34m)\u001b[0m\u001b[0;34m\u001b[0m\u001b[0m\n\u001b[0m\u001b[1;32m   3831\u001b[0m             \u001b[0mresult\u001b[0m\u001b[0;34m.\u001b[0m\u001b[0maxes\u001b[0m \u001b[0;34m=\u001b[0m \u001b[0mlist\u001b[0m\u001b[0;34m(\u001b[0m\u001b[0mself\u001b[0m\u001b[0;34m.\u001b[0m\u001b[0maxes\u001b[0m\u001b[0;34m)\u001b[0m\u001b[0;34m\u001b[0m\u001b[0m\n\u001b[1;32m   3832\u001b[0m             \u001b[0mresult\u001b[0m\u001b[0;34m.\u001b[0m\u001b[0maxes\u001b[0m\u001b[0;34m[\u001b[0m\u001b[0maxis\u001b[0m\u001b[0;34m]\u001b[0m \u001b[0;34m=\u001b[0m \u001b[0mnew_axis\u001b[0m\u001b[0;34m\u001b[0m\u001b[0m\n",
      "\u001b[0;32m/Users/lilyli/anaconda3/lib/python3.6/site-packages/pandas/core/internals.py\u001b[0m in \u001b[0;36mcopy\u001b[0;34m(self, deep, mgr)\u001b[0m\n\u001b[1;32m   3387\u001b[0m             \u001b[0mnew_axes\u001b[0m \u001b[0;34m=\u001b[0m \u001b[0mlist\u001b[0m\u001b[0;34m(\u001b[0m\u001b[0mself\u001b[0m\u001b[0;34m.\u001b[0m\u001b[0maxes\u001b[0m\u001b[0;34m)\u001b[0m\u001b[0;34m\u001b[0m\u001b[0m\n\u001b[1;32m   3388\u001b[0m         return self.apply('copy', axes=new_axes, deep=deep,\n\u001b[0;32m-> 3389\u001b[0;31m                           do_integrity_check=False)\n\u001b[0m\u001b[1;32m   3390\u001b[0m \u001b[0;34m\u001b[0m\u001b[0m\n\u001b[1;32m   3391\u001b[0m     \u001b[0;32mdef\u001b[0m \u001b[0mas_matrix\u001b[0m\u001b[0;34m(\u001b[0m\u001b[0mself\u001b[0m\u001b[0;34m,\u001b[0m \u001b[0mitems\u001b[0m\u001b[0;34m=\u001b[0m\u001b[0;32mNone\u001b[0m\u001b[0;34m)\u001b[0m\u001b[0;34m:\u001b[0m\u001b[0;34m\u001b[0m\u001b[0m\n",
      "\u001b[0;32m/Users/lilyli/anaconda3/lib/python3.6/site-packages/pandas/core/internals.py\u001b[0m in \u001b[0;36mapply\u001b[0;34m(self, f, axes, filter, do_integrity_check, consolidate, **kwargs)\u001b[0m\n\u001b[1;32m   3054\u001b[0m \u001b[0;34m\u001b[0m\u001b[0m\n\u001b[1;32m   3055\u001b[0m             \u001b[0mkwargs\u001b[0m\u001b[0;34m[\u001b[0m\u001b[0;34m'mgr'\u001b[0m\u001b[0;34m]\u001b[0m \u001b[0;34m=\u001b[0m \u001b[0mself\u001b[0m\u001b[0;34m\u001b[0m\u001b[0m\n\u001b[0;32m-> 3056\u001b[0;31m             \u001b[0mapplied\u001b[0m \u001b[0;34m=\u001b[0m \u001b[0mgetattr\u001b[0m\u001b[0;34m(\u001b[0m\u001b[0mb\u001b[0m\u001b[0;34m,\u001b[0m \u001b[0mf\u001b[0m\u001b[0;34m)\u001b[0m\u001b[0;34m(\u001b[0m\u001b[0;34m**\u001b[0m\u001b[0mkwargs\u001b[0m\u001b[0;34m)\u001b[0m\u001b[0;34m\u001b[0m\u001b[0m\n\u001b[0m\u001b[1;32m   3057\u001b[0m             \u001b[0mresult_blocks\u001b[0m \u001b[0;34m=\u001b[0m \u001b[0m_extend_blocks\u001b[0m\u001b[0;34m(\u001b[0m\u001b[0mapplied\u001b[0m\u001b[0;34m,\u001b[0m \u001b[0mresult_blocks\u001b[0m\u001b[0;34m)\u001b[0m\u001b[0;34m\u001b[0m\u001b[0m\n\u001b[1;32m   3058\u001b[0m \u001b[0;34m\u001b[0m\u001b[0m\n",
      "\u001b[0;32m/Users/lilyli/anaconda3/lib/python3.6/site-packages/pandas/core/internals.py\u001b[0m in \u001b[0;36mcopy\u001b[0;34m(self, deep, mgr)\u001b[0m\n\u001b[1;32m    610\u001b[0m         \u001b[0mvalues\u001b[0m \u001b[0;34m=\u001b[0m \u001b[0mself\u001b[0m\u001b[0;34m.\u001b[0m\u001b[0mvalues\u001b[0m\u001b[0;34m\u001b[0m\u001b[0m\n\u001b[1;32m    611\u001b[0m         \u001b[0;32mif\u001b[0m \u001b[0mdeep\u001b[0m\u001b[0;34m:\u001b[0m\u001b[0;34m\u001b[0m\u001b[0m\n\u001b[0;32m--> 612\u001b[0;31m             \u001b[0mvalues\u001b[0m \u001b[0;34m=\u001b[0m \u001b[0mvalues\u001b[0m\u001b[0;34m.\u001b[0m\u001b[0mcopy\u001b[0m\u001b[0;34m(\u001b[0m\u001b[0;34m)\u001b[0m\u001b[0;34m\u001b[0m\u001b[0m\n\u001b[0m\u001b[1;32m    613\u001b[0m         \u001b[0;32mreturn\u001b[0m \u001b[0mself\u001b[0m\u001b[0;34m.\u001b[0m\u001b[0mmake_block_same_class\u001b[0m\u001b[0;34m(\u001b[0m\u001b[0mvalues\u001b[0m\u001b[0;34m)\u001b[0m\u001b[0;34m\u001b[0m\u001b[0m\n\u001b[1;32m    614\u001b[0m \u001b[0;34m\u001b[0m\u001b[0m\n",
      "\u001b[0;31mKeyboardInterrupt\u001b[0m: "
     ]
    }
   ],
   "source": [
    "nt2idx=dict(zip(['A','C','G','T'],[0,1,2,3]))\n",
    "columns = ['motif', 'sequence', 'score']\n",
    "ElemeNT = pd.DataFrame(data=np.zeros((0,len(columns))), columns=columns) \n",
    "\n",
    "# k = 'TATABox'\n",
    "# v = pPFM['TATABox']\n",
    "idx = 0\n",
    "for k,v in pPFM.items():\n",
    "    L = v.shape[0]\n",
    "    for seq in itertools.combinations(['A','T','C','G']*L,L):\n",
    "        if all(elem in seq_constraints[k][i] for i,elem in enumerate(seq)):\n",
    "            for i,base in enumerate(seq):\n",
    "                if i == 0:\n",
    "                    temp_score = v[i,nt2idx[base]]/max(v[i,:])\n",
    "                else:\n",
    "                    temp_score = temp_score*v[i,nt2idx[base]]/max(v[i,:])\n",
    "                if temp_score == 0:\n",
    "                    continue\n",
    "            ElemeNT.loc[idx] = [k,''.join(seq),temp_score]\n",
    "            idx += 1"
   ]
  },
  {
   "cell_type": "code",
   "execution_count": 114,
   "metadata": {
    "collapsed": false
   },
   "outputs": [
    {
     "data": {
      "text/html": [
       "<div>\n",
       "<table border=\"1\" class=\"dataframe\">\n",
       "  <thead>\n",
       "    <tr style=\"text-align: right;\">\n",
       "      <th></th>\n",
       "      <th>motif</th>\n",
       "      <th>sequence</th>\n",
       "      <th>score</th>\n",
       "    </tr>\n",
       "  </thead>\n",
       "  <tbody>\n",
       "    <tr>\n",
       "      <th>0</th>\n",
       "      <td>TATABox</td>\n",
       "      <td>ATCGATCG</td>\n",
       "      <td>0.0</td>\n",
       "    </tr>\n",
       "    <tr>\n",
       "      <th>1</th>\n",
       "      <td>TATABox</td>\n",
       "      <td>ATCGATCA</td>\n",
       "      <td>0.0</td>\n",
       "    </tr>\n",
       "    <tr>\n",
       "      <th>2</th>\n",
       "      <td>TATABox</td>\n",
       "      <td>ATCGATCT</td>\n",
       "      <td>0.0</td>\n",
       "    </tr>\n",
       "    <tr>\n",
       "      <th>3</th>\n",
       "      <td>TATABox</td>\n",
       "      <td>ATCGATCC</td>\n",
       "      <td>0.0</td>\n",
       "    </tr>\n",
       "    <tr>\n",
       "      <th>4</th>\n",
       "      <td>TATABox</td>\n",
       "      <td>ATCGATCG</td>\n",
       "      <td>0.0</td>\n",
       "    </tr>\n",
       "  </tbody>\n",
       "</table>\n",
       "</div>"
      ],
      "text/plain": [
       "     motif  sequence  score\n",
       "0  TATABox  ATCGATCG    0.0\n",
       "1  TATABox  ATCGATCA    0.0\n",
       "2  TATABox  ATCGATCT    0.0\n",
       "3  TATABox  ATCGATCC    0.0\n",
       "4  TATABox  ATCGATCG    0.0"
      ]
     },
     "execution_count": 114,
     "metadata": {},
     "output_type": "execute_result"
    }
   ],
   "source": [
    "ElemeNT.head(5)"
   ]
  },
  {
   "cell_type": "code",
   "execution_count": null,
   "metadata": {
    "collapsed": true
   },
   "outputs": [],
   "source": [
    "columns = ['sequence', 'motif', 'position','score']\n",
    "filtered_ppatser_output = pd.DataFrame(data=np.zeros((0,len(columns))), columns=columns)\n",
    "idx2 = 0\n",
    "for idx in range(promoters_patser_output.shape[0]):\n",
    "    temp = promoters_patser_output.loc[idx]\n",
    "    if promoters[temp.position:temp.position+pPFM[temp.motif].shape[0]] in ElemeNT.sequence[ElemeNT.motif==temp.motif]:\n",
    "        filtered_ppatser_output.loc[idx2] = [temp.sequence,temp.motif,temp.position,ElemeNT.score[(ElemeNT.sequence==temp.sequence) & (ElemeNT.motif==temp.motif)]]"
   ]
  },
  {
   "cell_type": "code",
   "execution_count": 14,
   "metadata": {
    "collapsed": true
   },
   "outputs": [],
   "source": [
    "def ElemeNT_scoring(sequence_dictionary,motif_list,PFM_dictionary,score_cutoff):\n",
    "    bases = ['A','C','G','T']\n",
    "    base2index = dict([reversed(x) for x in enumerate(bases)])\n",
    "    \n",
    "    output = pd.DataFrame(columns=['sequence','motif','position','score'])\n",
    "    with open('element_output.txt','w') as f:\n",
    "        for motif in motif_list:\n",
    "            for seq_name, sequence in sequence_dictionary.items():\n",
    "                for i in range(len(sequence)-PFM_dictionary[motif].shape[0]+1):\n",
    "                    subsequence = sequence[i:i+PFM_dictionary[motif].shape[0]]\n",
    "                    if 'N' in subsequence:\n",
    "                        continue\n",
    "                    temp_score = 1\n",
    "                    for position, base in enumerate(subsequence):\n",
    "                        temp_score = temp_score*PFM_dictionary[motif][position,base2index[base]]/max(PFM_dictionary[motif][position,:])\n",
    "                    if np.round(temp_score,2) > score_cutoff[motif]:\n",
    "                        f.write('%s\\t%s\\t%s\\t%.4f\\n' %(seq_name.replace('-','_'), motif, i+1, temp_score))\n",
    "    output = pd.read_csv('element_output.txt',sep='\\t',header=None)\n",
    "    output.columns = ['sequence','motif','position','score']\n",
    "    output[['score']] = output[['score']].astype(float)\n",
    "    \n",
    "    return output"
   ]
  },
  {
   "cell_type": "code",
   "execution_count": 15,
   "metadata": {
    "collapsed": false
   },
   "outputs": [
    {
     "data": {
      "text/html": [
       "<div>\n",
       "<table border=\"1\" class=\"dataframe\">\n",
       "  <thead>\n",
       "    <tr style=\"text-align: right;\">\n",
       "      <th></th>\n",
       "      <th>sequence</th>\n",
       "      <th>motif</th>\n",
       "      <th>position</th>\n",
       "      <th>score</th>\n",
       "    </tr>\n",
       "  </thead>\n",
       "  <tbody>\n",
       "    <tr>\n",
       "      <th>0</th>\n",
       "      <td>test</td>\n",
       "      <td>Bridge1</td>\n",
       "      <td>1</td>\n",
       "      <td>0.435</td>\n",
       "    </tr>\n",
       "  </tbody>\n",
       "</table>\n",
       "</div>"
      ],
      "text/plain": [
       "  sequence    motif  position  score\n",
       "0     test  Bridge1         1  0.435"
      ]
     },
     "execution_count": 15,
     "metadata": {},
     "output_type": "execute_result"
    }
   ],
   "source": [
    "ElemeNT_scoring({'test':'GGAGC'},['Bridge1'],pPFM,ES_cutoff)"
   ]
  },
  {
   "cell_type": "code",
   "execution_count": 16,
   "metadata": {
    "collapsed": false
   },
   "outputs": [],
   "source": [
    "ppatser_output = ElemeNT_scoring(promoters,pmotif_list,pPFM,ES_cutoff)"
   ]
  },
  {
   "cell_type": "code",
   "execution_count": 17,
   "metadata": {
    "collapsed": false
   },
   "outputs": [
    {
     "data": {
      "text/html": [
       "<div>\n",
       "<table border=\"1\" class=\"dataframe\">\n",
       "  <thead>\n",
       "    <tr style=\"text-align: right;\">\n",
       "      <th></th>\n",
       "      <th>sequence</th>\n",
       "      <th>motif</th>\n",
       "      <th>position</th>\n",
       "      <th>score</th>\n",
       "    </tr>\n",
       "  </thead>\n",
       "  <tbody>\n",
       "    <tr>\n",
       "      <th>0</th>\n",
       "      <td>ECSIT_1</td>\n",
       "      <td>BREd</td>\n",
       "      <td>71</td>\n",
       "      <td>0.6065</td>\n",
       "    </tr>\n",
       "    <tr>\n",
       "      <th>1</th>\n",
       "      <td>Fhos_4</td>\n",
       "      <td>BREd</td>\n",
       "      <td>32</td>\n",
       "      <td>0.9317</td>\n",
       "    </tr>\n",
       "    <tr>\n",
       "      <th>2</th>\n",
       "      <td>CG33552_1</td>\n",
       "      <td>BREd</td>\n",
       "      <td>58</td>\n",
       "      <td>0.5349</td>\n",
       "    </tr>\n",
       "    <tr>\n",
       "      <th>3</th>\n",
       "      <td>CG33552_1</td>\n",
       "      <td>BREd</td>\n",
       "      <td>61</td>\n",
       "      <td>0.7859</td>\n",
       "    </tr>\n",
       "    <tr>\n",
       "      <th>4</th>\n",
       "      <td>mrt_2</td>\n",
       "      <td>BREd</td>\n",
       "      <td>63</td>\n",
       "      <td>0.5518</td>\n",
       "    </tr>\n",
       "  </tbody>\n",
       "</table>\n",
       "</div>"
      ],
      "text/plain": [
       "    sequence motif  position   score\n",
       "0    ECSIT_1  BREd        71  0.6065\n",
       "1     Fhos_4  BREd        32  0.9317\n",
       "2  CG33552_1  BREd        58  0.5349\n",
       "3  CG33552_1  BREd        61  0.7859\n",
       "4      mrt_2  BREd        63  0.5518"
      ]
     },
     "execution_count": 17,
     "metadata": {},
     "output_type": "execute_result"
    }
   ],
   "source": [
    "ppatser_output.head(5)"
   ]
  },
  {
   "cell_type": "code",
   "execution_count": null,
   "metadata": {
    "collapsed": true
   },
   "outputs": [],
   "source": []
  }
 ],
 "metadata": {
  "kernelspec": {
   "display_name": "Python 3",
   "language": "python",
   "name": "python3"
  },
  "language_info": {
   "codemirror_mode": {
    "name": "ipython",
    "version": 3
   },
   "file_extension": ".py",
   "mimetype": "text/x-python",
   "name": "python",
   "nbconvert_exporter": "python",
   "pygments_lexer": "ipython3",
   "version": "3.6.0"
  }
 },
 "nbformat": 4,
 "nbformat_minor": 2
}
